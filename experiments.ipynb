{
 "cells": [
  {
   "cell_type": "markdown",
   "metadata": {},
   "source": [
    "<a href=\"https://colab.research.google.com/github/AppimateSA/Text-To-Video-Finetuning_2/blob/main/experiments.ipynb\" target=\"_blank\"><img src=\"https://colab.research.google.com/assets/colab-badge.svg\" alt=\"Open In Colab\"/></a>"
   ]
  },
  {
   "cell_type": "markdown",
   "metadata": {},
   "source": [
    "# Setup"
   ]
  },
  {
   "cell_type": "code",
   "execution_count": 1,
   "metadata": {},
   "outputs": [],
   "source": [
    "# !git clone https://github.com/ExponentialML/Text-To-Video-Finetuning.git\n",
    "# %cd Text-To-Video-Finetuning\n",
    "# !git lfs install\n",
    "# !git clone https://huggingface.co/damo-vilab/text-to-video-ms-1.7b ./models/model_scope_diffusers/"
   ]
  },
  {
   "cell_type": "markdown",
   "metadata": {},
   "source": [
    "# Train"
   ]
  },
  {
   "cell_type": "code",
   "execution_count": 6,
   "metadata": {},
   "outputs": [
    {
     "name": "stdout",
     "output_type": "stream",
     "text": [
      "/home/luthando/miniconda3/envs/vgen/lib/python3.8/site-packages/torchvision/io/image.py:13: UserWarning: Failed to load image Python extension: 'libc10_cuda.so: cannot open shared object file: No such file or directory'If you don't plan on using image functionality from `torchvision.io`, you can ignore this warning. Otherwise, there might be something wrong with your environment. Did you have `libjpeg` or `libpng` installed before building `torchvision` from source?\n",
      "  warn(\n",
      "WARNING[XFORMERS]: xFormers can't load C++/CUDA extensions. xFormers was built for:\n",
      "    PyTorch 2.2.0+cu121 with CUDA 1201 (you have 2.2.0)\n",
      "    Python  3.8.18 (you have 3.8.18)\n",
      "  Please reinstall xformers (see https://github.com/facebookresearch/xformers#installing-xformers)\n",
      "  Memory-efficient attention, SwiGLU, sparse and more won't be available.\n",
      "  Set XFORMERS_MORE_DETAILS=1 for more details\n",
      "Initializing the conversion map\n",
      "03/27/2024 21:12:29 - INFO - __main__ - Distributed environment: NO\n",
      "Num processes: 1\n",
      "Process index: 0\n",
      "Local process index: 0\n",
      "Device: cpu\n",
      "\n",
      "Mixed precision type: fp16\n",
      "\n",
      "/home/luthando/miniconda3/envs/vgen/lib/python3.8/site-packages/diffusers/configuration_utils.py:217: FutureWarning: It is deprecated to pass a pretrained model name or path to `from_config`.If you were trying to load a scheduler, please use <class 'diffusers.schedulers.scheduling_ddpm.DDPMScheduler'>.from_pretrained(...) instead. Otherwise, please make sure to pass a configuration dictionary instead. This functionality will be removed in v1.0.0.\n",
      "  deprecate(\"config-passed-as-path\", \"1.0.0\", deprecation_message, standard_warn=False)\n",
      "{'timestep_spacing', 'variance_type'} was not found in config. Values will be initialized to default values.\n",
      "{'mid_block_scale_factor', 'downsample_padding'} was not found in config. Values will be initialized to default values.\n",
      "33 Attention layers using Scaled Dot Product Attention.\n",
      "Traceback (most recent call last):\n",
      "  File \"train.py\", line 991, in <module>\n",
      "    main(**OmegaConf.load(args.config))\n",
      "  File \"train.py\", line 648, in main\n",
      "    cached_data_loader = handle_cache_latents(\n",
      "  File \"train.py\", line 279, in handle_cache_latents\n",
      "    vae.to('cuda', dtype=torch.float16)\n",
      "  File \"/home/luthando/miniconda3/envs/vgen/lib/python3.8/site-packages/torch/nn/modules/module.py\", line 1152, in to\n",
      "    return self._apply(convert)\n",
      "  File \"/home/luthando/miniconda3/envs/vgen/lib/python3.8/site-packages/torch/nn/modules/module.py\", line 802, in _apply\n",
      "    module._apply(fn)\n",
      "  File \"/home/luthando/miniconda3/envs/vgen/lib/python3.8/site-packages/torch/nn/modules/module.py\", line 802, in _apply\n",
      "    module._apply(fn)\n",
      "  File \"/home/luthando/miniconda3/envs/vgen/lib/python3.8/site-packages/torch/nn/modules/module.py\", line 825, in _apply\n",
      "    param_applied = fn(param)\n",
      "  File \"/home/luthando/miniconda3/envs/vgen/lib/python3.8/site-packages/torch/nn/modules/module.py\", line 1150, in convert\n",
      "    return t.to(device, dtype if t.is_floating_point() or t.is_complex() else None, non_blocking)\n",
      "  File \"/home/luthando/miniconda3/envs/vgen/lib/python3.8/site-packages/torch/cuda/__init__.py\", line 293, in _lazy_init\n",
      "    raise AssertionError(\"Torch not compiled with CUDA enabled\")\n",
      "AssertionError: Torch not compiled with CUDA enabled\n"
     ]
    }
   ],
   "source": [
    "!python train.py --config ./configs/v2/train_config.yaml"
   ]
  }
 ],
 "metadata": {
  "kernelspec": {
   "display_name": "vgen",
   "language": "python",
   "name": "python3"
  },
  "language_info": {
   "codemirror_mode": {
    "name": "ipython",
    "version": 3
   },
   "file_extension": ".py",
   "mimetype": "text/x-python",
   "name": "python",
   "nbconvert_exporter": "python",
   "pygments_lexer": "ipython3",
   "version": "3.8.18"
  }
 },
 "nbformat": 4,
 "nbformat_minor": 2
}
